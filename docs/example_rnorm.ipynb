{
 "cells": [
  {
   "cell_type": "markdown",
   "metadata": {},
   "source": [
    "# Pystats Tutorial\n",
    "\n",
    "Welcome to the pystats package documentation! This package offers a suite of functions to simulate, and analyze and interpret data that follows a normal distribution curve. This package provides similar functionality to R's 'rnorm', 'pnorm', 'dnorm' and 'qnorm' functions. \n",
    "\n",
    "We will illustrate the usage of the 4 functions in our package pystats with a real-life example. Our example features a high school teacher named Mr. Gittu. Mr. Gittu would like to streamline the process of predicting and evaluating test scores, and our package can help him with this! \n",
    "\n",
    "# Gittu's Motivation\n",
    "Mr. Gittu is an experienced computer science teacher at Hogwarts School of Data Science. He will be administering a standardized test and he knows that the test scores for the class he teaches usually follow a normal distribution with:\n",
    "- A class average of 70% \n",
    "- Standard deviation of 10%\n",
    "\n",
    "He wants to use the pystats package to streamline the process of predicting and evaluating test scores. \n",
    "\n",
    "# 1)Simulating Test Scores Distribution (rnorm)\n",
    "Before administering the test, Mr. Gittu would like to simulate 40 scores so he can understand what results to expect for his next test. Using rnorm, Gittu generates a sample of 40 test scores with a mean of 70 and standard deviation of 10. "
   ]
  },
  {
   "cell_type": "code",
   "execution_count": 6,
   "metadata": {},
   "outputs": [
    {
     "name": "stdout",
     "output_type": "stream",
     "text": [
      "[74.20452281 78.66388898 59.55077437 74.1957122  52.73488522 70.94027806\n",
      " 64.42609415 51.43139489 72.07729985 58.82186324 53.42283709 44.38789712\n",
      " 74.00662388 80.72201118 73.94866135 64.50353759 75.39855634 75.36819002\n",
      " 58.76416535 61.58953732 84.23689105 58.18879521 73.94125487 50.71836493\n",
      " 78.53598426 81.35838945 69.52242086 65.71031189 73.65624817 66.5553977\n",
      " 52.6504993  73.86428205 80.45713795 76.63603868 76.49479916 83.17186614\n",
      " 82.7335521  86.02569377 68.42021104 75.94734956]\n"
     ]
    }
   ],
   "source": [
    "from pystats.rnorm import rnorm\n",
    "#Simulating test scores with n = 40, mean=70, and sd=10\n",
    "simulated_scores = rnorm(n=40, mean = 70, sd = 10)\n",
    "\n",
    "print(simulated_scores)"
   ]
  },
  {
   "cell_type": "markdown",
   "metadata": {},
   "source": [
    "The rnorm function helped Mr. Gittu generate a simulated dataset. This gives him a realistic expectation of what test scores he may expect for the next test he employs in his class of 40 students. "
   ]
  },
  {
   "cell_type": "code",
   "execution_count": null,
   "metadata": {},
   "outputs": [],
   "source": []
  }
 ],
 "metadata": {
  "kernelspec": {
   "display_name": "pystats",
   "language": "python",
   "name": "python3"
  },
  "language_info": {
   "codemirror_mode": {
    "name": "ipython",
    "version": 3
   },
   "file_extension": ".py",
   "mimetype": "text/x-python",
   "name": "python",
   "nbconvert_exporter": "python",
   "pygments_lexer": "ipython3",
   "version": "3.11.0"
  }
 },
 "nbformat": 4,
 "nbformat_minor": 2
}
