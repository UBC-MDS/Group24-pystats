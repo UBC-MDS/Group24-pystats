{
 "cells": [
  {
   "cell_type": "markdown",
   "id": "c557eead-20f5-49a1-b105-3884508abb9f",
   "metadata": {},
   "source": [
    "## 4) Calculate probabilities or identify scores that are very far from the mean using dnorm: \n",
    "\n",
    "After the test, Mr Gittu finds out that the actual mean was 68% and s.d. of 11%, not bad! He's using dnorm to figure out how much of an outlier certain scores are. If he wants to know how unusual a score of 50% is:"
   ]
  },
  {
   "cell_type": "code",
   "execution_count": 3,
   "id": "78029d4e-0e5b-4b9d-8fd9-9f3bff1768d7",
   "metadata": {},
   "outputs": [
    {
     "name": "stdout",
     "output_type": "stream",
     "text": [
      "    x       PDF\n",
      "0  50  0.009507\n"
     ]
    }
   ],
   "source": [
    "from pystats.dnorm import dnorm\n",
    "result = dnorm(50, mean = 68, sd = 11)\n",
    "print(result)"
   ]
  },
  {
   "cell_type": "markdown",
   "id": "d0a0301f-2b6a-46bc-a976-3eff07d78f47",
   "metadata": {},
   "source": [
    "This output shows the probability density function (PDF) value of a normal distribution for a score of 50, given a mean of 68 and a standard deviation of 11. The result indicates that the PDF value at x=50 is approximately 0.009507. This confirms that 50 is on the tail end of the normal distribution curve, which is why it has a low probability density."
   ]
  }
 ],
 "metadata": {
  "kernelspec": {
   "display_name": "Python 3 (ipykernel)",
   "language": "python",
   "name": "python3"
  },
  "language_info": {
   "codemirror_mode": {
    "name": "ipython",
    "version": 3
   },
   "file_extension": ".py",
   "mimetype": "text/x-python",
   "name": "python",
   "nbconvert_exporter": "python",
   "pygments_lexer": "ipython3",
   "version": "3.11.9"
  }
 },
 "nbformat": 4,
 "nbformat_minor": 5
}
