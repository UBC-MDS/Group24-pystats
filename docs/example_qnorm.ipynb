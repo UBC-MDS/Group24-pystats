{
 "cells": [
  {
   "cell_type": "markdown",
   "id": "0f200931-d936-4f66-9b88-9bfadf25a56c",
   "metadata": {},
   "source": [
    "## 3) Calculating quantiles with qnorm\n",
    "\n",
    "Mr. Gittu also wants know what exam score corresponds to the 90th percentile. Using `qnorm`, he can easily find out what test score students need to to be in the top 10% of the class. Using the parameter `lower_tail = False`, Mr. Gittu can also identify the test score that 90% of the class will score above."
   ]
  },
  {
   "cell_type": "code",
   "execution_count": 19,
   "id": "6b5e6571-8e48-4e5a-ac8c-fa86889865d7",
   "metadata": {},
   "outputs": [
    {
     "name": "stdout",
     "output_type": "stream",
     "text": [
      "82.82\n"
     ]
    }
   ],
   "source": [
    "from pystats.qnorm import qnorm\n",
    "\n",
    "quantile1 = qnorm(p=0.9, mean=70, sd=10)\n",
    "print(round(quantile1, 2))"
   ]
  },
  {
   "cell_type": "markdown",
   "id": "a75e444d-5acf-4430-bd0f-e6f5d9019adf",
   "metadata": {},
   "source": [
    "To be in the top 10% of the class, Mr. Gittus' students will need to score at least 82.82% on the test."
   ]
  },
  {
   "cell_type": "code",
   "execution_count": 15,
   "id": "d72e1027-9f61-4619-a407-0456ad7ebbb9",
   "metadata": {},
   "outputs": [
    {
     "name": "stdout",
     "output_type": "stream",
     "text": [
      "57.18\n"
     ]
    }
   ],
   "source": [
    "quantile2 = qnorm(p=0.9, mean=70, sd=10, lower_tail = False)\n",
    "print(round(quantile2, 2))"
   ]
  },
  {
   "cell_type": "markdown",
   "id": "c2d77fc0-e13a-4c4f-b227-bdf740d59fd6",
   "metadata": {},
   "source": [
    "Conversely, 90% of Mr. Gittus' students should score above 57.18% on the test."
   ]
  }
 ],
 "metadata": {
  "kernelspec": {
   "display_name": "Python [conda env:pystats]",
   "language": "python",
   "name": "conda-env-pystats-py"
  },
  "language_info": {
   "codemirror_mode": {
    "name": "ipython",
    "version": 3
   },
   "file_extension": ".py",
   "mimetype": "text/x-python",
   "name": "python",
   "nbconvert_exporter": "python",
   "pygments_lexer": "ipython3",
   "version": "3.13.1"
  }
 },
 "nbformat": 4,
 "nbformat_minor": 5
}
